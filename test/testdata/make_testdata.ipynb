{
 "cells": [
  {
   "cell_type": "code",
   "execution_count": 1,
   "metadata": {},
   "outputs": [],
   "source": [
    "import os\n",
    "import json\n",
    "import glob"
   ]
  },
  {
   "cell_type": "code",
   "execution_count": 2,
   "metadata": {},
   "outputs": [],
   "source": [
    "dictionary = json.load(open(\"../../config/test_parameters.json\"))"
   ]
  },
  {
   "cell_type": "code",
   "execution_count": 3,
   "metadata": {},
   "outputs": [],
   "source": [
    "def get_subset(read1, read2, size):\n",
    "    r1 = glob.glob(read1)\n",
    "    r2 = glob.glob(read2)\n",
    "    \n",
    "    paired_end_reads = []\n",
    "    for read in r2:\n",
    "        sample = read.split(\"/\")[3].split(\"_\")[0]\n",
    "        if sample in \"\".join(r1):\n",
    "            paired_end_reads.append(read)\n",
    "        \n",
    "    subset = paired_end_reads[:size]\n",
    "    return subset"
   ]
  },
  {
   "cell_type": "code",
   "execution_count": 4,
   "metadata": {},
   "outputs": [],
   "source": [
    "r1 = \"/datasets/srp073813/*_1.fastq.gz\"\n",
    "r2 = \"/datasets/srp073813/*_2.fastq.gz\""
   ]
  },
  {
   "cell_type": "code",
   "execution_count": 5,
   "metadata": {},
   "outputs": [
    {
     "data": {
      "text/plain": [
       "['/datasets/srp073813/SRR3438851_2.fastq.gz',\n",
       " '/datasets/srp073813/SRR3438558_2.fastq.gz',\n",
       " '/datasets/srp073813/SRR3438822_2.fastq.gz',\n",
       " '/datasets/srp073813/SRR3438799_2.fastq.gz',\n",
       " '/datasets/srp073813/SRR3438847_2.fastq.gz',\n",
       " '/datasets/srp073813/SRR3438834_2.fastq.gz',\n",
       " '/datasets/srp073813/SRR3438769_2.fastq.gz',\n",
       " '/datasets/srp073813/SRR3438574_2.fastq.gz',\n",
       " '/datasets/srp073813/SRR3438720_2.fastq.gz',\n",
       " '/datasets/srp073813/SRR3438584_2.fastq.gz']"
      ]
     },
     "execution_count": 5,
     "metadata": {},
     "output_type": "execute_result"
    }
   ],
   "source": [
    "subset = get_subset(r1,r2,dictionary['subset_size'])\n",
    "subset"
   ]
  },
  {
   "cell_type": "code",
   "execution_count": 6,
   "metadata": {},
   "outputs": [],
   "source": [
    "for sample in subset:\n",
    "    s1 = sample.replace(\"_2.\",\"_1.\")\n",
    "    s2 = sample\n",
    "    \n",
    "    f1 = s1.split('/')[-1]\n",
    "    f1name = f1.split('.')[0]\n",
    "    command1 = f\"head -5000 {s1} > {f1}\"\n",
    "    os.system(command1)\n",
    "    # Optional: Generate .txt file to check raw reads\n",
    "    #os.system(f\"zcat {f1} > {f1name}.txt\")\n",
    "\n",
    "    \n",
    "    f2 = s2.split('/')[-1]\n",
    "    f2name = f2.split('.')[0]\n",
    "    command2 = f\"head -5000 {s2} > {f2}\"\n",
    "    os.system(command2)\n",
    "    #os.system(f\"zcat {f2} > {f2name}.txt\")\n"
   ]
  },
  {
   "cell_type": "code",
   "execution_count": null,
   "metadata": {},
   "outputs": [],
   "source": []
  }
 ],
 "metadata": {
  "kernelspec": {
   "display_name": "Python 3",
   "language": "python",
   "name": "python3"
  },
  "language_info": {
   "codemirror_mode": {
    "name": "ipython",
    "version": 3
   },
   "file_extension": ".py",
   "mimetype": "text/x-python",
   "name": "python",
   "nbconvert_exporter": "python",
   "pygments_lexer": "ipython3",
   "version": "3.7.6"
  }
 },
 "nbformat": 4,
 "nbformat_minor": 4
}
