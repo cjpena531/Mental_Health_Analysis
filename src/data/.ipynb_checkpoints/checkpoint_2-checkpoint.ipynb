{
 "cells": [
  {
   "cell_type": "code",
   "execution_count": 1,
   "metadata": {},
   "outputs": [],
   "source": [
    "import os\n",
    "import glob"
   ]
  },
  {
   "cell_type": "markdown",
   "metadata": {},
   "source": [
    "# FastQC"
   ]
  },
  {
   "cell_type": "code",
   "execution_count": 2,
   "metadata": {},
   "outputs": [],
   "source": [
    "read1 = glob.glob(\"/datasets/srp073813/*_1.fastq.gz\")"
   ]
  },
  {
   "cell_type": "code",
   "execution_count": 3,
   "metadata": {},
   "outputs": [],
   "source": [
    "read2 = glob.glob(\"/datasets/srp073813/*_2.fastq.gz\")"
   ]
  },
  {
   "cell_type": "code",
   "execution_count": 4,
   "metadata": {},
   "outputs": [],
   "source": [
    "paired_end_reads = []\n",
    "for read in read2:\n",
    "    sample = read.split(\"/\")[3].split(\"_\")[0]\n",
    "    if sample in \"\".join(read1):\n",
    "        paired_end_reads.append(read)"
   ]
  },
  {
   "cell_type": "code",
   "execution_count": 5,
   "metadata": {},
   "outputs": [],
   "source": [
    "os.chdir('..')\n",
    "os.chdir('/datasets/home/43/243/myhaider/DSC180A-Checkpoint-1')"
   ]
  },
  {
   "cell_type": "code",
   "execution_count": 6,
   "metadata": {},
   "outputs": [
    {
     "data": {
      "text/plain": [
       "['/datasets/srp073813/SRR3438851_2.fastq.gz',\n",
       " '/datasets/srp073813/SRR3438558_2.fastq.gz',\n",
       " '/datasets/srp073813/SRR3438822_2.fastq.gz']"
      ]
     },
     "execution_count": 6,
     "metadata": {},
     "output_type": "execute_result"
    }
   ],
   "source": [
    "subset = paired_end_reads[:3]\n",
    "subset"
   ]
  },
  {
   "cell_type": "code",
   "execution_count": 46,
   "metadata": {},
   "outputs": [],
   "source": [
    "for sample in subset:\n",
    "    s1 = read.replace(\"_2.\",\"_1.\")\n",
    "    s2 = read\n",
    "    command1 = \"/opt/FastQC/fastqc \" + s1 + \" --outdir=src/data/fastqc_results/\"\n",
    "    command2 = \"/opt/FastQC/fastqc \" + s2 + \" --outdir=src/data/fastqc_results/\"\n",
    "\n",
    "    os.system(command1)\n",
    "    os.system(command2)"
   ]
  },
  {
   "cell_type": "code",
   "execution_count": 9,
   "metadata": {},
   "outputs": [],
   "source": [
    "#Can only run once, implement check\n",
    "os.chdir('src/data/fastqc_results')\n",
    "\n",
    "if not os.path.isdir('unzipped'):\n",
    "        os.system('mkdir ' + 'unzipped')\n",
    "\n",
    "os.system('unzip \\*.zip -d unzipped')"
   ]
  },
  {
   "cell_type": "code",
   "execution_count": 10,
   "metadata": {},
   "outputs": [],
   "source": [
    "#Parse summary.txt for PASS/FAIL flags\n",
    "os.chdir('unzipped')"
   ]
  },
  {
   "cell_type": "code",
   "execution_count": 11,
   "metadata": {},
   "outputs": [
    {
     "name": "stdout",
     "output_type": "stream",
     "text": [
      "[]\n"
     ]
    }
   ],
   "source": [
    "failed = []\n",
    "\n",
    "for report in os.listdir():\n",
    "    if report.startswith(\"SRR\"):\n",
    "        os.chdir(report)\n",
    "        with open('summary.txt') as f:\n",
    "            flag = f.readline()[:4]\n",
    "            if flag != 'PASS':\n",
    "                failed.append(report)\n",
    "        os.chdir('..')\n",
    "    else:\n",
    "        continue\n",
    "        \n",
    "print(failed)"
   ]
  },
  {
   "cell_type": "markdown",
   "metadata": {},
   "source": [
    "# Cutadapt"
   ]
  },
  {
   "cell_type": "code",
   "execution_count": 12,
   "metadata": {},
   "outputs": [],
   "source": [
    "os.chdir('..')\n",
    "os.chdir('..')\n",
    "os.chdir('cutadapt')"
   ]
  },
  {
   "cell_type": "code",
   "execution_count": 13,
   "metadata": {
    "scrolled": true
   },
   "outputs": [],
   "source": [
    "for sample in subset:\n",
    "    s1 = sample.replace(\"_2.\",\"_1.\")\n",
    "    f1 = s1.split('/')[-1]\n",
    "    \n",
    "    s2 = sample\n",
    "    f2 = s2.split('/')[-1]\n",
    "    \n",
    "    command1 = f\"cutadapt -j 4 -a AACCGGTT -o {f1} {s1}\"\n",
    "    command2 = f\"cutadapt -j 4 -a AACCGGTT -o {f2} {s2}\"\n",
    "\n",
    "    os.system(command1)\n",
    "    os.system(command2)"
   ]
  },
  {
   "cell_type": "markdown",
   "metadata": {},
   "source": [
    "# Kallisto"
   ]
  },
  {
   "cell_type": "code",
   "execution_count": 14,
   "metadata": {},
   "outputs": [],
   "source": [
    "os.chdir('..')"
   ]
  },
  {
   "cell_type": "code",
   "execution_count": 15,
   "metadata": {},
   "outputs": [],
   "source": [
    "os.chdir('kallisto')"
   ]
  },
  {
   "cell_type": "code",
   "execution_count": null,
   "metadata": {},
   "outputs": [],
   "source": [
    "for sample in subset:\n",
    "    s1 = sample.replace(\"_2.\",\"_1.\")    \n",
    "    s2 = sample\n",
    "    \n",
    "    idx = \"/datasets/srp073813/reference/kallisto_transcripts.idx\"\n",
    "    outpath = s1.split('/')[-1].split('_')[0]\n",
    "    \n",
    "    if not os.path.isdir(outpath):\n",
    "        os.system('mkdir ' + outpath)\n",
    "    \n",
    "    command = f\"/opt/kallisto_linux-v0.42.4/kallisto quant -i {idx} -o {outpath} -b 0 {s1} {s2}\"\n",
    "    \n",
    "    os.system(command)\n",
    "    print(outpath)"
   ]
  }
 ],
 "metadata": {
  "kernelspec": {
   "display_name": "Python 3",
   "language": "python",
   "name": "python3"
  },
  "language_info": {
   "codemirror_mode": {
    "name": "ipython",
    "version": 3
   },
   "file_extension": ".py",
   "mimetype": "text/x-python",
   "name": "python",
   "nbconvert_exporter": "python",
   "pygments_lexer": "ipython3",
   "version": "3.7.6"
  }
 },
 "nbformat": 4,
 "nbformat_minor": 4
}
